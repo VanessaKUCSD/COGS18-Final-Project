#My final project was to create a program that would allow the user 
#to input a random list of numbers and my program would show the steps
#that are used when preforming mergesort. This program would print out 
#a short explanantion of what is occurring at each line as well as the 
#list at the current step of mergesort
    # i.e.
    # Please enter a list of numbers separated my a space: 4 6 3 1 9 8
    # Preforming mergesort on list
    # Process of sorting:
    # split in half:  [4, 6, 3, 1, 9, 8]
    # split in half:  [4, 6, 3]
    # cannot be split further:  [4]
    # split in half:  [6, 3]
    # cannot be split further:  [6]
    # cannot be split further:  [3]
    # merged:  [3, 6]
    # merged:  [3, 4, 6]
    # split in half:  [1, 9, 8]
    # cannot be split further:  [1]
    # split in half:  [9, 8]
    # cannot be split further:  [9]
    # cannot be split further:  [8]
    # merged:  [8, 9]
    # merged:  [1, 8, 9]
    # merged:  [1, 3, 4, 6, 8, 9]
    # Sorted list: [1, 3, 4, 6, 8, 9]
    
# To run the code: !python3 mergesort_script.py
